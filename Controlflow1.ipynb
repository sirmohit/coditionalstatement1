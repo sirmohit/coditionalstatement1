{
 "cells": [
  {
   "cell_type": "code",
   "execution_count": 2,
   "id": "a6bbeb28-0b52-476b-b431-5749b8e5e8fa",
   "metadata": {},
   "outputs": [
    {
     "name": "stdin",
     "output_type": "stream",
     "text": [
      "Enter your marks :  90\n"
     ]
    },
    {
     "name": "stdout",
     "output_type": "stream",
     "text": [
      "Your are eligible for A0 batch\n"
     ]
    }
   ],
   "source": [
    "marks=int(input(\"Enter your marks : \")) #intput function always takes values as a stringsyou should always typwe cast it\n",
    "if marks >= 80:\n",
    "    print(\"Your are eligible for A0 batch\")\n",
    "elif marks >= 60 and marks<80 :\n",
    "    print(\"Your are eligible for A1 batch\")\n",
    "elif marks >=40 and marks<60 :\n",
    "    print(\"Your are eligible for A2 batch\")\n",
    "else:\n",
    "    print(\"Your are eligible for A3 batch\")"
   ]
  },
  {
   "cell_type": "code",
   "execution_count": 1,
   "id": "26907a0d-41d1-47ff-898a-2e52d82d63af",
   "metadata": {},
   "outputs": [
    {
     "name": "stdin",
     "output_type": "stream",
     "text": [
      "enter prize 5500\n"
     ]
    },
    {
     "name": "stdout",
     "output_type": "stream",
     "text": [
      "I will purchase\n",
      "It is too much\n"
     ]
    }
   ],
   "source": [
    "prize=int(input(\"enter prize\"))\n",
    "if prize>2000:\n",
    "    print(\"I will purchase\")\n",
    "    if prize >5000:\n",
    "        print(\"It is too much\")\n",
    "else:\n",
    "    print(\"It's ordinary product\")"
   ]
  },
  {
   "cell_type": "code",
   "execution_count": 1,
   "id": "848ef508-e4fd-4307-a5a2-316650cf617c",
   "metadata": {},
   "outputs": [
    {
     "data": {
      "text/plain": [
       "[2, 3, 4, 5, 6]"
      ]
     },
     "execution_count": 1,
     "metadata": {},
     "output_type": "execute_result"
    }
   ],
   "source": [
    "l=[1,2,3,4,5]\n",
    "l1=[]\n",
    "for i in l:\n",
    "    l1.append(i+1)\n",
    "l1"
   ]
  },
  {
   "cell_type": "code",
   "execution_count": 3,
   "id": "0955789f-1e80-43ea-a15d-25644da57674",
   "metadata": {},
   "outputs": [
    {
     "data": {
      "text/plain": [
       "['mohit', 'bhade', 'data scientist']"
      ]
     },
     "execution_count": 3,
     "metadata": {},
     "output_type": "execute_result"
    }
   ],
   "source": [
    "l2=[123,345,\"mohit\",\"bhade\",\"data scientist\",23,4,3,54,32]  #make list of int value and strig value seprately\n",
    "l1_num=[]\n",
    "l3_st=[]\n",
    "for i in l2:\n",
    "    if type(i) == int or type(i)==float:\n",
    "        l1_num.append(i)\n",
    "    else:\n",
    "        l3_st.append(i)\n",
    "l1_num\n",
    "l3_st"
   ]
  },
  {
   "cell_type": "code",
   "execution_count": null,
   "id": "5a392de6-edb7-4906-8f04-bed894ac9b55",
   "metadata": {},
   "outputs": [],
   "source": []
  }
 ],
 "metadata": {
  "kernelspec": {
   "display_name": "Python 3 (ipykernel)",
   "language": "python",
   "name": "python3"
  },
  "language_info": {
   "codemirror_mode": {
    "name": "ipython",
    "version": 3
   },
   "file_extension": ".py",
   "mimetype": "text/x-python",
   "name": "python",
   "nbconvert_exporter": "python",
   "pygments_lexer": "ipython3",
   "version": "3.10.8"
  }
 },
 "nbformat": 4,
 "nbformat_minor": 5
}
